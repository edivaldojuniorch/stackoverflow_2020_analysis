{
 "cells": [
  {
   "cell_type": "code",
   "execution_count": 139,
   "metadata": {},
   "outputs": [],
   "source": [
    "import pandas as pd\n"
   ]
  },
  {
   "cell_type": "code",
   "execution_count": 156,
   "metadata": {},
   "outputs": [
    {
     "output_type": "execute_result",
     "data": {
      "text/plain": [
       "{'Column': {0: 'Respondent',\n",
       "  1: 'MainBranch',\n",
       "  2: 'Hobbyist',\n",
       "  3: 'Age',\n",
       "  4: 'Age1stCode',\n",
       "  5: 'CompFreq',\n",
       "  6: 'CompTotal',\n",
       "  7: 'ConvertedComp',\n",
       "  8: 'Country',\n",
       "  9: 'CurrencyDesc',\n",
       "  10: 'CurrencySymbol',\n",
       "  11: 'DatabaseDesireNextYear',\n",
       "  12: 'DatabaseWorkedWith',\n",
       "  13: 'DevType',\n",
       "  14: 'EdLevel',\n",
       "  15: 'Employment',\n",
       "  16: 'Ethnicity',\n",
       "  17: 'Gender',\n",
       "  18: 'JobFactors',\n",
       "  19: 'JobSat',\n",
       "  20: 'JobSeek',\n",
       "  21: 'LanguageDesireNextYear',\n",
       "  22: 'LanguageWorkedWith',\n",
       "  23: 'MiscTechDesireNextYear',\n",
       "  24: 'MiscTechWorkedWith',\n",
       "  25: 'NEWCollabToolsDesireNextYear',\n",
       "  26: 'NEWCollabToolsWorkedWith',\n",
       "  27: 'NEWDevOps',\n",
       "  28: 'NEWDevOpsImpt',\n",
       "  29: 'NEWEdImpt',\n",
       "  30: 'NEWJobHunt',\n",
       "  31: 'NEWJobHuntResearch',\n",
       "  32: 'NEWLearn',\n",
       "  33: 'NEWOffTopic',\n",
       "  34: 'NEWOnboardGood',\n",
       "  35: 'NEWOtherComms',\n",
       "  36: 'NEWOvertime',\n",
       "  37: 'NEWPurchaseResearch',\n",
       "  38: 'NEWPurpleLink',\n",
       "  39: 'NEWSOSites',\n",
       "  40: 'NEWStuck',\n",
       "  41: 'OpSys',\n",
       "  42: 'OrgSize',\n",
       "  43: 'PlatformDesireNextYear',\n",
       "  44: 'PlatformWorkedWith',\n",
       "  45: 'PurchaseWhat',\n",
       "  46: 'Sexuality',\n",
       "  47: 'SOAccount',\n",
       "  48: 'SOComm',\n",
       "  49: 'SOPartFreq',\n",
       "  50: 'SOVisitFreq',\n",
       "  51: 'SurveyEase',\n",
       "  52: 'SurveyLength',\n",
       "  53: 'Trans',\n",
       "  54: 'UndergradMajor',\n",
       "  55: 'WebframeDesireNextYear',\n",
       "  56: 'WebframeWorkedWith',\n",
       "  57: 'WelcomeChange',\n",
       "  58: 'WorkWeekHrs',\n",
       "  59: 'YearsCode',\n",
       "  60: 'YearsCodePro'},\n",
       " 'QuestionText': {0: 'Randomized respondent ID number (not in order of survey response time)',\n",
       "  1: 'Which of the following options best describes you today? Here, by \"developer\" we mean \"someone who writes code.\"',\n",
       "  2: 'Do you code as a hobby?',\n",
       "  3: 'What is your age (in years)? If you prefer not to answer, you may leave this question blank.',\n",
       "  4: 'At what age did you write your first line of code or program? (e.g., webpage, Hello World, Scratch project)',\n",
       "  5: 'Is that compensation weekly, monthly, or yearly?',\n",
       "  6: 'What is your current total compensation (salary, bonuses, and perks, before taxes and deductions), in `CurrencySymbol`? Please enter a whole number in the box below, without any punctuation. If you are paid hourly, please estimate an equivalent weekly, monthly, or yearly salary. If you prefer not to answer, please leave the box empty.',\n",
       "  7: 'Salary converted to annual USD salaries using the exchange rate on 2020-02-19, assuming 12 working months and 50 working weeks.',\n",
       "  8: 'Where do you live?',\n",
       "  9: \"Which currency do you use day-to-day? If your answer is complicated, please pick the one you're most comfortable estimating in.\",\n",
       "  10: \"Which currency do you use day-to-day? If your answer is complicated, please pick the one you're most comfortable estimating in.\",\n",
       "  11: 'Which database environments have you done extensive development work in over the past year, and which do you want to work in over the next year? (If you both worked with the database and want to continue to do so, please check both boxes in that row.)',\n",
       "  12: 'Which database environments have you done extensive development work in over the past year, and which do you want to work in over the next year? (If you both worked with the database and want to continue to do so, please check both boxes in that row.)',\n",
       "  13: 'Which of the following describe you? Please select all that apply.',\n",
       "  14: 'Which of the following best describes the highest level of formal education that you’ve completed?',\n",
       "  15: 'Which of the following best describes your current employment status?',\n",
       "  16: 'Which of the following describe you, if any? Please check all that apply. If you prefer not to answer, you may leave this question blank.',\n",
       "  17: 'Which of the following describe you, if any? Please check all that apply. If you prefer not to answer, you may leave this question blank.',\n",
       "  18: 'Imagine that you are deciding between two job offers with the same compensation, benefits, and location. Of the following factors, which 3 are MOST important to you?',\n",
       "  19: 'How satisfied are you with your current job? (If you work multiple jobs, answer for the one you spend the most hours on.)',\n",
       "  20: 'Which of the following best describes your current job-seeking status?',\n",
       "  21: 'Which programming, scripting, and markup languages have you done extensive development work in over the past year, and which do you want to work in over the next year? (If you both worked with the language and want to continue to do so, please check both boxes in that row.)',\n",
       "  22: 'Which programming, scripting, and markup languages have you done extensive development work in over the past year, and which do you want to work in over the next year? (If you both worked with the language and want to continue to do so, please check both boxes in that row.)',\n",
       "  23: 'Which other frameworks, libraries, and tools have you done extensive development work in over the past year, and which do you want to work in over the next year? (If you both worked with the framework and want to continue to do so, please check both boxes in that row.)',\n",
       "  24: 'Which other frameworks, libraries, and tools have you done extensive development work in over the past year, and which do you want to work in over the next year? (If you both worked with the framework and want to continue to do so, please check both boxes in that row.)',\n",
       "  25: 'Which collaboration tools have you done extensive development work in over the past year, and which do you want to work in over the next year? (If you worked with the tool and want to continue to do so, please check both boxes in that row.)',\n",
       "  26: 'Which collaboration tools have you done extensive development work in over the past year, and which do you want to work in over the next year? (If you worked with the tool and want to continue to do so, please check both boxes in that row.)',\n",
       "  27: 'Does your company have a dedicated DevOps person?',\n",
       "  28: 'How important is the practice of DevOps to scaling software development?',\n",
       "  29: 'How important is a formal education, such as a university degree in computer science, to your career?',\n",
       "  30: 'In general, what drives you to look for a new job? Select all that apply.',\n",
       "  31: 'When job searching, how do you learn more about a company? Select all that apply.',\n",
       "  32: 'How frequently do you learn a new language or framework?',\n",
       "  33: 'Do you think Stack Overflow should relax restrictions on what is considered “off-topic”?',\n",
       "  34: 'Do you think your company has a good onboarding process? (By onboarding, we mean the structured process of getting you settled in to your new role at a company)',\n",
       "  35: 'Are you a member of any other online developer communities?',\n",
       "  36: 'How often do you work overtime or beyond the formal time expectation of your job?',\n",
       "  37: 'When buying a new tool or software, how do you discover and research available solutions? Select all that apply.',\n",
       "  38: 'You search for a coding solution online and the first result link is purple because you already visited it. How do you feel?',\n",
       "  39: 'Which of the following Stack Overflow sites have you visited? Select all that apply.',\n",
       "  40: 'What do you do when you get stuck on a problem? Select all that apply.',\n",
       "  41: 'What is the primary operating system in which you work?',\n",
       "  42: 'Approximately how many people are employed by the company or organization you currently work for?',\n",
       "  43: 'Which platforms have you done extensive development work in over the past year, and which do you want to work in over the next year? (If you both worked with the platform and want to continue to do so, please check both boxes in that row.)',\n",
       "  44: 'Which platforms have you done extensive development work in over the past year, and which do you want to work in over the next year? (If you both worked with the platform and want to continue to do so, please check both boxes in that row.)',\n",
       "  45: 'What level of influence do you, personally, have over new technology purchases at your organization?',\n",
       "  46: 'Which of the following describe you, if any? Please check all that apply. If you prefer not to answer, you may leave this question blank.',\n",
       "  47: 'Do you have a Stack Overflow account?',\n",
       "  48: 'Do you consider yourself a member of the Stack Overflow community?',\n",
       "  49: 'How frequently would you say you participate in Q&A on Stack Overflow? By participate we mean ask, answer, vote for, or comment on questions.',\n",
       "  50: 'How frequently would you say you visit Stack Overflow?',\n",
       "  51: 'How easy or difficult was this survey to complete?',\n",
       "  52: 'How do you feel about the length of the survey this year?',\n",
       "  53: 'Are you transgender?',\n",
       "  54: 'What was your primary field of study?',\n",
       "  55: 'Which web frameworks have you done extensive development work in over the past year, and which do you want to work in over the next year? (If you both worked with the framework and want to continue to do so, please check both boxes in that row.)',\n",
       "  56: 'Which web frameworks have you done extensive development work in over the past year, and which do you want to work in over the next year? (If you both worked with the framework and want to continue to do so, please check both boxes in that row.)',\n",
       "  57: 'Compared to last year, how welcome do you feel on Stack Overflow?',\n",
       "  58: 'On average, how many hours per week do you work? Please enter a whole number in the box.',\n",
       "  59: 'Including any education, how many years have you been coding in total?',\n",
       "  60: 'NOT including education, how many years have you coded professionally (as a part of your work)?'}}"
      ]
     },
     "metadata": {},
     "execution_count": 156
    }
   ],
   "source": [
    "# import data and scheme data\n",
    "df = pd.read_csv(\"survey_results_public.csv\")\n",
    "df_scheme = pd.read_csv(\"survey_results_schema.csv\")\n",
    "df_scheme.to_dict()"
   ]
  },
  {
   "cell_type": "code",
   "execution_count": 141,
   "metadata": {},
   "outputs": [
    {
     "output_type": "execute_result",
     "data": {
      "text/plain": [
       "Extremely important     0.481477\n",
       "Somewhat important      0.309930\n",
       "Neutral                 0.174303\n",
       "Not very important      0.019913\n",
       "Not at all important    0.014377\n",
       "Name: NEWDevOpsImpt, dtype: float64"
      ]
     },
     "metadata": {},
     "execution_count": 141
    }
   ],
   "source": [
    "# Question 1 : How the total people asked see the DevOps Impostance\n",
    "df_good = df[df['NEWDevOpsImpt'].isnull() == False]\n",
    "df_good['NEWDevOpsImpt'].value_counts()/df_good.shape[0]\n"
   ]
  },
  {
   "cell_type": "code",
   "execution_count": 142,
   "metadata": {},
   "outputs": [
    {
     "output_type": "execute_result",
     "data": {
      "text/plain": [
       "Extremely important     0.391772\n",
       "Somewhat important      0.200096\n",
       "Neutral                 0.122063\n",
       "Not very important      0.011869\n",
       "Not at all important    0.009223\n",
       "Name: NEWDevOpsImpt, dtype: float64"
      ]
     },
     "metadata": {},
     "execution_count": 142
    }
   ],
   "source": [
    "# Question 2 : How the people from USA see DevOps Importance?\n",
    "df_us = df[df['Country']=='United States']\n",
    "df_us['NEWDevOpsImpt'].value_counts()/df_us['NEWDevOpsImpt'].shape[0]"
   ]
  },
  {
   "cell_type": "code",
   "execution_count": 167,
   "metadata": {},
   "outputs": [
    {
     "output_type": "execute_result",
     "data": {
      "text/plain": [
       "Extremely important     0.363310\n",
       "Somewhat important      0.239085\n",
       "Neutral                 0.130050\n",
       "Not very important      0.015300\n",
       "Not at all important    0.010475\n",
       "Name: NEWDevOpsImpt, dtype: float64"
      ]
     },
     "metadata": {},
     "execution_count": 167
    }
   ],
   "source": [
    "# Question 3 : How men and women gender influence the DevOpsImpt evaluation on USA ?\n",
    "df_devops_usa_man = df[df['Gender']=='Man']\n",
    "df_devops_usa_man['NEWDevOpsImpt'].value_counts()/df_devops_usa_man['NEWDevOpsImpt'].shape[0]"
   ]
  },
  {
   "cell_type": "code",
   "execution_count": 166,
   "metadata": {},
   "outputs": [
    {
     "output_type": "execute_result",
     "data": {
      "text/plain": [
       "Extremely important     0.368626\n",
       "Somewhat important      0.199272\n",
       "Neutral                 0.125650\n",
       "Not very important      0.009365\n",
       "Not at all important    0.006504\n",
       "Name: NEWDevOpsImpt, dtype: float64"
      ]
     },
     "metadata": {},
     "execution_count": 166
    }
   ],
   "source": [
    "# Question 3 : How men and women gender influence the DevOpsImpt evaluation on USA ?\n",
    "df_devops_usa_woman = df[df['Gender']=='Woman']\n",
    "df_devops_usa_woman['NEWDevOpsImpt'].value_counts()/df_devops_usa_woman['NEWDevOpsImpt'].shape[0]"
   ]
  },
  {
   "cell_type": "code",
   "execution_count": 145,
   "metadata": {},
   "outputs": [
    {
     "output_type": "execute_result",
     "data": {
      "text/plain": [
       "'What is your current total compensation (salary, bonuses, and perks, before taxes and deductions), in `CurrencySymbol`? Please enter a whole number in the box below, without any punctuation. If you are paid hourly, please estimate an equivalent weekly, monthly, or yearly salary. If you prefer not to answer, please leave the box empty.'"
      ]
     },
     "metadata": {},
     "execution_count": 145
    }
   ],
   "source": [
    "str(df_scheme.loc[df_scheme['Column']=='CompTotal']['QuestionText'].values[0])"
   ]
  },
  {
   "cell_type": "code",
   "execution_count": 146,
   "metadata": {},
   "outputs": [
    {
     "output_type": "execute_result",
     "data": {
      "text/plain": [
       "Index(['Respondent', 'MainBranch', 'Hobbyist', 'Age', 'Age1stCode', 'CompFreq',\n",
       "       'CompTotal', 'ConvertedComp', 'Country', 'CurrencyDesc',\n",
       "       'CurrencySymbol', 'DatabaseDesireNextYear', 'DatabaseWorkedWith',\n",
       "       'DevType', 'EdLevel', 'Employment', 'Ethnicity', 'Gender', 'JobFactors',\n",
       "       'JobSat', 'JobSeek', 'LanguageDesireNextYear', 'LanguageWorkedWith',\n",
       "       'MiscTechDesireNextYear', 'MiscTechWorkedWith',\n",
       "       'NEWCollabToolsDesireNextYear', 'NEWCollabToolsWorkedWith', 'NEWDevOps',\n",
       "       'NEWDevOpsImpt', 'NEWEdImpt', 'NEWJobHunt', 'NEWJobHuntResearch',\n",
       "       'NEWLearn', 'NEWOffTopic', 'NEWOnboardGood', 'NEWOtherComms',\n",
       "       'NEWOvertime', 'NEWPurchaseResearch', 'NEWPurpleLink', 'NEWSOSites',\n",
       "       'NEWStuck', 'OpSys', 'OrgSize', 'PlatformDesireNextYear',\n",
       "       'PlatformWorkedWith', 'PurchaseWhat', 'Sexuality', 'SOAccount',\n",
       "       'SOComm', 'SOPartFreq', 'SOVisitFreq', 'SurveyEase', 'SurveyLength',\n",
       "       'Trans', 'UndergradMajor', 'WebframeDesireNextYear',\n",
       "       'WebframeWorkedWith', 'WelcomeChange', 'WorkWeekHrs', 'YearsCode',\n",
       "       'YearsCodePro'],\n",
       "      dtype='object')"
      ]
     },
     "metadata": {},
     "execution_count": 146
    }
   ],
   "source": [
    "df.columns"
   ]
  },
  {
   "cell_type": "code",
   "execution_count": 147,
   "metadata": {},
   "outputs": [
    {
     "output_type": "execute_result",
     "data": {
      "text/plain": [
       "United States                         0.195798\n",
       "India                                 0.131950\n",
       "United Kingdom                        0.061178\n",
       "Germany                               0.061084\n",
       "Canada                                0.034405\n",
       "                                        ...   \n",
       "Marshall Islands                      0.000016\n",
       "Lesotho                               0.000016\n",
       "Chad                                  0.000016\n",
       "Micronesia, Federated States of...    0.000016\n",
       "Nauru                                 0.000016\n",
       "Name: Country, Length: 183, dtype: float64"
      ]
     },
     "metadata": {},
     "execution_count": 147
    }
   ],
   "source": [
    "# NEWDevOps vs Country\n",
    "#result_1 = df.groupby('NEWDevOps')['Country'].max()\n",
    "#print(result_1)\n",
    "\n",
    "df_country_good = df[df['Country'].isnull() ==False ]\n",
    "df_country_bad= df[df['Country'].isnull() ==True ]\n",
    "\n",
    "# N de linhas\n",
    "df['Country'].count()\n",
    "\n",
    "# Frequency for values on 'Country'\n",
    "df['Country'].value_counts().to_dict()\n",
    "\n",
    "# Frequency \n",
    "country_perct = df_country_good['Country'].value_counts()/(df_country_good.shape[0] -sum(df_country_bad['Country'].isnull()))\n",
    "\n",
    "country_perct"
   ]
  },
  {
   "cell_type": "code",
   "execution_count": 148,
   "metadata": {},
   "outputs": [],
   "source": [
    "# NEWDevOps vs YearsCode"
   ]
  },
  {
   "cell_type": "code",
   "execution_count": null,
   "metadata": {},
   "outputs": [],
   "source": []
  },
  {
   "cell_type": "code",
   "execution_count": 149,
   "metadata": {},
   "outputs": [
    {
     "output_type": "execute_result",
     "data": {
      "text/plain": [
       "'Which of the following best describes the highest level of formal education that you’ve completed?'"
      ]
     },
     "metadata": {},
     "execution_count": 149
    }
   ],
   "source": [
    "def get_description (col_title, df_scheme):\n",
    "    \n",
    "    \"\"\"\n",
    "        INPUT - \n",
    "        \n",
    "        OUTPUT - \n",
    "        \n",
    "    \n",
    "    \"\"\"\n",
    "    description = df_scheme.loc[df_scheme['Column'] == col_title ]\n",
    "    \n",
    "    return '{}'.format(description.iloc[0,1])\n",
    "\n",
    "get_description('EdLevel', df_scheme)"
   ]
  },
  {
   "cell_type": "code",
   "execution_count": 150,
   "metadata": {},
   "outputs": [
    {
     "output_type": "stream",
     "name": "stdout",
     "text": [
      "Respondent\nMainBranch\nHobbyist\nAge\nAge1stCode\nCompFreq\nCompTotal\nConvertedComp\nCountry\nCurrencyDesc\nCurrencySymbol\nDatabaseDesireNextYear\nDatabaseWorkedWith\nDevType\nEdLevel\nEmployment\nEthnicity\nGender\nJobFactors\nJobSat\nJobSeek\nLanguageDesireNextYear\nLanguageWorkedWith\nMiscTechDesireNextYear\nMiscTechWorkedWith\nNEWCollabToolsDesireNextYear\nNEWCollabToolsWorkedWith\nNEWDevOps\nNEWDevOpsImpt\nNEWEdImpt\nNEWJobHunt\nNEWJobHuntResearch\nNEWLearn\nNEWOffTopic\nNEWOnboardGood\nNEWOtherComms\nNEWOvertime\nNEWPurchaseResearch\nNEWPurpleLink\nNEWSOSites\nNEWStuck\nOpSys\nOrgSize\nPlatformDesireNextYear\nPlatformWorkedWith\nPurchaseWhat\nSexuality\nSOAccount\nSOComm\nSOPartFreq\nSOVisitFreq\nSurveyEase\nSurveyLength\nTrans\nUndergradMajor\nWebframeDesireNextYear\nWebframeWorkedWith\nWelcomeChange\nWorkWeekHrs\nYearsCode\nYearsCodePro\n"
     ]
    }
   ],
   "source": [
    "df.columns = [print(x) for x in df.columns]"
   ]
  },
  {
   "cell_type": "code",
   "execution_count": null,
   "metadata": {},
   "outputs": [],
   "source": []
  },
  {
   "cell_type": "markdown",
   "metadata": {},
   "source": [
    "# 1. Who are envolping interrested on devOps, looking at age, jobsat and sexuality\n"
   ]
  },
  {
   "cell_type": "code",
   "execution_count": 151,
   "metadata": {},
   "outputs": [
    {
     "output_type": "error",
     "ename": "KeyError",
     "evalue": "'NEWDevOpsImpt'",
     "traceback": [
      "\u001b[1;31m---------------------------------------------------------------------------\u001b[0m",
      "\u001b[1;31mKeyError\u001b[0m                                  Traceback (most recent call last)",
      "\u001b[1;32m~\\AppData\\Roaming\\Python\\Python39\\site-packages\\pandas\\core\\indexes\\base.py\u001b[0m in \u001b[0;36mget_loc\u001b[1;34m(self, key, method, tolerance)\u001b[0m\n\u001b[0;32m   2894\u001b[0m             \u001b[1;32mtry\u001b[0m\u001b[1;33m:\u001b[0m\u001b[1;33m\u001b[0m\u001b[1;33m\u001b[0m\u001b[0m\n\u001b[1;32m-> 2895\u001b[1;33m                 \u001b[1;32mreturn\u001b[0m \u001b[0mself\u001b[0m\u001b[1;33m.\u001b[0m\u001b[0m_engine\u001b[0m\u001b[1;33m.\u001b[0m\u001b[0mget_loc\u001b[0m\u001b[1;33m(\u001b[0m\u001b[0mcasted_key\u001b[0m\u001b[1;33m)\u001b[0m\u001b[1;33m\u001b[0m\u001b[1;33m\u001b[0m\u001b[0m\n\u001b[0m\u001b[0;32m   2896\u001b[0m             \u001b[1;32mexcept\u001b[0m \u001b[0mKeyError\u001b[0m \u001b[1;32mas\u001b[0m \u001b[0merr\u001b[0m\u001b[1;33m:\u001b[0m\u001b[1;33m\u001b[0m\u001b[1;33m\u001b[0m\u001b[0m\n",
      "\u001b[1;32mpandas\\_libs\\index.pyx\u001b[0m in \u001b[0;36mpandas._libs.index.IndexEngine.get_loc\u001b[1;34m()\u001b[0m\n",
      "\u001b[1;32mpandas\\_libs\\index.pyx\u001b[0m in \u001b[0;36mpandas._libs.index.IndexEngine.get_loc\u001b[1;34m()\u001b[0m\n",
      "\u001b[1;32mpandas\\_libs\\index.pyx\u001b[0m in \u001b[0;36mpandas._libs.index.IndexEngine._get_loc_duplicates\u001b[1;34m()\u001b[0m\n",
      "\u001b[1;32mpandas\\_libs\\index.pyx\u001b[0m in \u001b[0;36mpandas._libs.index.IndexEngine._maybe_get_bool_indexer\u001b[1;34m()\u001b[0m\n",
      "\u001b[1;32mpandas\\_libs\\index.pyx\u001b[0m in \u001b[0;36mpandas._libs.index.IndexEngine._unpack_bool_indexer\u001b[1;34m()\u001b[0m\n",
      "\u001b[1;31mKeyError\u001b[0m: 'NEWDevOpsImpt'",
      "\nThe above exception was the direct cause of the following exception:\n",
      "\u001b[1;31mKeyError\u001b[0m                                  Traceback (most recent call last)",
      "\u001b[1;32m<ipython-input-151-4ac9f9c7cb40>\u001b[0m in \u001b[0;36m<module>\u001b[1;34m\u001b[0m\n\u001b[1;32m----> 1\u001b[1;33m \u001b[0mdev_ops\u001b[0m \u001b[1;33m=\u001b[0m \u001b[0mdf\u001b[0m\u001b[1;33m[\u001b[0m\u001b[1;34m'NEWDevOpsImpt'\u001b[0m\u001b[1;33m]\u001b[0m\u001b[1;33m.\u001b[0m\u001b[0mvalue_counts\u001b[0m\u001b[1;33m(\u001b[0m\u001b[1;33m)\u001b[0m\u001b[1;33m.\u001b[0m\u001b[0mplot\u001b[0m\u001b[1;33m.\u001b[0m\u001b[0mbar\u001b[0m\u001b[1;33m(\u001b[0m\u001b[0mtitle\u001b[0m\u001b[1;33m=\u001b[0m\u001b[1;34m'How the companies is dedicating people to deal with DevOps?'\u001b[0m\u001b[1;33m)\u001b[0m\u001b[1;33m\u001b[0m\u001b[1;33m\u001b[0m\u001b[0m\n\u001b[0m",
      "\u001b[1;32m~\\AppData\\Roaming\\Python\\Python39\\site-packages\\pandas\\core\\frame.py\u001b[0m in \u001b[0;36m__getitem__\u001b[1;34m(self, key)\u001b[0m\n\u001b[0;32m   2904\u001b[0m             \u001b[1;32mif\u001b[0m \u001b[0mself\u001b[0m\u001b[1;33m.\u001b[0m\u001b[0mcolumns\u001b[0m\u001b[1;33m.\u001b[0m\u001b[0mnlevels\u001b[0m \u001b[1;33m>\u001b[0m \u001b[1;36m1\u001b[0m\u001b[1;33m:\u001b[0m\u001b[1;33m\u001b[0m\u001b[1;33m\u001b[0m\u001b[0m\n\u001b[0;32m   2905\u001b[0m                 \u001b[1;32mreturn\u001b[0m \u001b[0mself\u001b[0m\u001b[1;33m.\u001b[0m\u001b[0m_getitem_multilevel\u001b[0m\u001b[1;33m(\u001b[0m\u001b[0mkey\u001b[0m\u001b[1;33m)\u001b[0m\u001b[1;33m\u001b[0m\u001b[1;33m\u001b[0m\u001b[0m\n\u001b[1;32m-> 2906\u001b[1;33m             \u001b[0mindexer\u001b[0m \u001b[1;33m=\u001b[0m \u001b[0mself\u001b[0m\u001b[1;33m.\u001b[0m\u001b[0mcolumns\u001b[0m\u001b[1;33m.\u001b[0m\u001b[0mget_loc\u001b[0m\u001b[1;33m(\u001b[0m\u001b[0mkey\u001b[0m\u001b[1;33m)\u001b[0m\u001b[1;33m\u001b[0m\u001b[1;33m\u001b[0m\u001b[0m\n\u001b[0m\u001b[0;32m   2907\u001b[0m             \u001b[1;32mif\u001b[0m \u001b[0mis_integer\u001b[0m\u001b[1;33m(\u001b[0m\u001b[0mindexer\u001b[0m\u001b[1;33m)\u001b[0m\u001b[1;33m:\u001b[0m\u001b[1;33m\u001b[0m\u001b[1;33m\u001b[0m\u001b[0m\n\u001b[0;32m   2908\u001b[0m                 \u001b[0mindexer\u001b[0m \u001b[1;33m=\u001b[0m \u001b[1;33m[\u001b[0m\u001b[0mindexer\u001b[0m\u001b[1;33m]\u001b[0m\u001b[1;33m\u001b[0m\u001b[1;33m\u001b[0m\u001b[0m\n",
      "\u001b[1;32m~\\AppData\\Roaming\\Python\\Python39\\site-packages\\pandas\\core\\indexes\\base.py\u001b[0m in \u001b[0;36mget_loc\u001b[1;34m(self, key, method, tolerance)\u001b[0m\n\u001b[0;32m   2895\u001b[0m                 \u001b[1;32mreturn\u001b[0m \u001b[0mself\u001b[0m\u001b[1;33m.\u001b[0m\u001b[0m_engine\u001b[0m\u001b[1;33m.\u001b[0m\u001b[0mget_loc\u001b[0m\u001b[1;33m(\u001b[0m\u001b[0mcasted_key\u001b[0m\u001b[1;33m)\u001b[0m\u001b[1;33m\u001b[0m\u001b[1;33m\u001b[0m\u001b[0m\n\u001b[0;32m   2896\u001b[0m             \u001b[1;32mexcept\u001b[0m \u001b[0mKeyError\u001b[0m \u001b[1;32mas\u001b[0m \u001b[0merr\u001b[0m\u001b[1;33m:\u001b[0m\u001b[1;33m\u001b[0m\u001b[1;33m\u001b[0m\u001b[0m\n\u001b[1;32m-> 2897\u001b[1;33m                 \u001b[1;32mraise\u001b[0m \u001b[0mKeyError\u001b[0m\u001b[1;33m(\u001b[0m\u001b[0mkey\u001b[0m\u001b[1;33m)\u001b[0m \u001b[1;32mfrom\u001b[0m \u001b[0merr\u001b[0m\u001b[1;33m\u001b[0m\u001b[1;33m\u001b[0m\u001b[0m\n\u001b[0m\u001b[0;32m   2898\u001b[0m \u001b[1;33m\u001b[0m\u001b[0m\n\u001b[0;32m   2899\u001b[0m         \u001b[1;32mif\u001b[0m \u001b[0mtolerance\u001b[0m \u001b[1;32mis\u001b[0m \u001b[1;32mnot\u001b[0m \u001b[1;32mNone\u001b[0m\u001b[1;33m:\u001b[0m\u001b[1;33m\u001b[0m\u001b[1;33m\u001b[0m\u001b[0m\n",
      "\u001b[1;31mKeyError\u001b[0m: 'NEWDevOpsImpt'"
     ]
    }
   ],
   "source": [
    "dev_ops = df['NEWDevOpsImpt'].value_counts().plot.bar(title='How the companies is dedicating people to deal with DevOps?')\n"
   ]
  },
  {
   "cell_type": "markdown",
   "metadata": {},
   "source": [
    "## 2. Jobhunt "
   ]
  },
  {
   "cell_type": "code",
   "execution_count": null,
   "metadata": {},
   "outputs": [],
   "source": []
  }
 ],
 "metadata": {
  "kernelspec": {
   "name": "python390jvsc74a57bd0ac59ebe37160ed0dfa835113d9b8498d9f09ceb179beaac4002f036b9467c963",
   "display_name": "Python 3.9.0 64-bit"
  },
  "language_info": {
   "codemirror_mode": {
    "name": "ipython",
    "version": 3
   },
   "file_extension": ".py",
   "mimetype": "text/x-python",
   "name": "python",
   "nbconvert_exporter": "python",
   "pygments_lexer": "ipython3",
   "version": "3.9.0"
  },
  "metadata": {
   "interpreter": {
    "hash": "ac59ebe37160ed0dfa835113d9b8498d9f09ceb179beaac4002f036b9467c963"
   }
  }
 },
 "nbformat": 4,
 "nbformat_minor": 4
}